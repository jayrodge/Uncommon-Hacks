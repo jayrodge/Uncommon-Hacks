{
 "cells": [
  {
   "cell_type": "code",
   "execution_count": 1,
   "metadata": {},
   "outputs": [],
   "source": [
    "import re\n",
    "import cv2\n",
    "import json\n",
    "import subprocess\n",
    "import time\n",
    "import numpy as np\n",
    "from mss import mss\n",
    "from PIL import Image\n",
    "from time import sleep\n",
    "from google.cloud import vision\n",
    "from google.cloud.vision import types"
   ]
  },
  {
   "cell_type": "code",
   "execution_count": 2,
   "metadata": {},
   "outputs": [
    {
     "name": "stdout",
     "output_type": "stream",
     "text": [
      "env: GOOGLE_APPLICATION_CREDENTIALS=Hackathon2.json\n"
     ]
    }
   ],
   "source": [
    "%set_env GOOGLE_APPLICATION_CREDENTIALS=Hackathon2.json"
   ]
  },
  {
   "cell_type": "code",
   "execution_count": 3,
   "metadata": {},
   "outputs": [],
   "source": [
    "def main_logic():\n",
    "    print(\"in main\")\n",
    "    client = vision.ImageAnnotatorClient()\n",
    "    bbox = {'top': 0, 'left': 0, 'width': 1900, 'height': 980}\n",
    "\n",
    "    sct = mss()\n",
    "\n",
    "    \n",
    "    sct_img = sct.grab(bbox)\n",
    "    # cv2.imshow('screen', np.array(sct_img))\n",
    "    image = Image.frombytes(\"RGB\", sct_img.size, sct_img.bgra, \"raw\", \"BGRX\")\n",
    "    image.save('temp.png')\n",
    "\n",
    "    with open('./temp.png', 'rb') as image_file:\n",
    "        content = image_file.read()\n",
    "\n",
    "    data = str(client.text_detection({'content': content}))\n",
    "    output = re.search(r'(?<=Your desktop is currently shared with\\s).*(?=\\Stop Sharing)', str(data))\n",
    "\n",
    "    if output:\n",
    "        print(\"Maybe Cheating\")\n",
    "    \n",
    "#     if cv2.waitKey(1) & 0xFF == ord('q'):\n",
    "#         cv2.destroyAllWindows()\n",
    "#         subprocess.check_output(['rm','test2.png'])\n",
    "#         break"
   ]
  },
  {
   "cell_type": "code",
   "execution_count": 4,
   "metadata": {},
   "outputs": [],
   "source": [
    "def time_scheduler():\n",
    "    t_end = time.time() + 30\n",
    "\n",
    "    while time.time() < t_end:\n",
    "        sleep(10)\n",
    "        main_logic()"
   ]
  },
  {
   "cell_type": "code",
   "execution_count": 8,
   "metadata": {},
   "outputs": [
    {
     "name": "stdout",
     "output_type": "stream",
     "text": [
      "in main\n",
      "found\n",
      "in main\n",
      "found\n"
     ]
    }
   ],
   "source": [
    "time_scheduler()"
   ]
  }
 ],
 "metadata": {
  "kernelspec": {
   "display_name": "Python 3",
   "language": "python",
   "name": "python3"
  },
  "language_info": {
   "codemirror_mode": {
    "name": "ipython",
    "version": 3
   },
   "file_extension": ".py",
   "mimetype": "text/x-python",
   "name": "python",
   "nbconvert_exporter": "python",
   "pygments_lexer": "ipython3",
   "version": "3.6.5"
  }
 },
 "nbformat": 4,
 "nbformat_minor": 2
}
